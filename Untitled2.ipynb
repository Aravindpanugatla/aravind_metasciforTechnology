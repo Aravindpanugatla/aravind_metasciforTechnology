{
  "nbformat": 4,
  "nbformat_minor": 0,
  "metadata": {
    "colab": {
      "provenance": [],
      "authorship_tag": "ABX9TyObmY8MQ3vGxOk+o1BpB5y7",
      "include_colab_link": true
    },
    "kernelspec": {
      "name": "python3",
      "display_name": "Python 3"
    },
    "language_info": {
      "name": "python"
    }
  },
  "cells": [
    {
      "cell_type": "markdown",
      "metadata": {
        "id": "view-in-github",
        "colab_type": "text"
      },
      "source": [
        "<a href=\"https://colab.research.google.com/github/Aravindpanugatla/aravind_metasciforTechnology/blob/main/Untitled2.ipynb\" target=\"_parent\"><img src=\"https://colab.research.google.com/assets/colab-badge.svg\" alt=\"Open In Colab\"/></a>"
      ]
    },
    {
      "cell_type": "code",
      "execution_count": 2,
      "metadata": {
        "colab": {
          "base_uri": "https://localhost:8080/"
        },
        "id": "ixnh5iEgKLAi",
        "outputId": "260b522a-d4f4-46f4-9020-438a22f149b3"
      },
      "outputs": [
        {
          "output_type": "stream",
          "name": "stdout",
          "text": [
            "Enter number:54\n",
            "Even\n"
          ]
        }
      ],
      "source": [
        "num = int(input(\"Enter number:\"))\n",
        "\n",
        "if num % 2 == 0:\n",
        "    print(\"Even\")\n",
        "else:\n",
        "    print(\"Odd\")"
      ]
    },
    {
      "cell_type": "code",
      "source": [
        "def rev(s):\n",
        "    rev = \"\"\n",
        "    for char in s:\n",
        "        rev = char + rev\n",
        "    return rev\n",
        "print(rev(\"Aravind\"))\n"
      ],
      "metadata": {
        "colab": {
          "base_uri": "https://localhost:8080/"
        },
        "id": "WEqMMP0GMRvp",
        "outputId": "04946d8d-664c-4044-bcd2-bbc994ad3047"
      },
      "execution_count": 13,
      "outputs": [
        {
          "output_type": "stream",
          "name": "stdout",
          "text": [
            "dnivarA\n"
          ]
        }
      ]
    },
    {
      "cell_type": "code",
      "source": [
        "def largest_num(numbers):\n",
        "    return max(numbers)\n",
        "\n",
        "nums = list(map(int, input(\"Enter numbers separated by spaces: \").split()))\n",
        "\n",
        "print(\"Largest_num:\", largest_num(nums))"
      ],
      "metadata": {
        "colab": {
          "base_uri": "https://localhost:8080/"
        },
        "id": "_7NMpU1oOlAz",
        "outputId": "93242e0d-a240-4251-d9d5-d5c14aa74a31"
      },
      "execution_count": 16,
      "outputs": [
        {
          "output_type": "stream",
          "name": "stdout",
          "text": [
            "Enter numbers separated by spaces: 22 33 44 22 454 75 34 9887\n",
            "Largest_num: 9887\n"
          ]
        }
      ]
    },
    {
      "cell_type": "code",
      "source": [
        "def is_palindrome(s):\n",
        "    s = s.lower()\n",
        "    return s == s[::-1]\n",
        "\n",
        "word = input(\"Enter a string: \")\n",
        "if is_palindrome(word):\n",
        "    print(\"It's a palindrome!\")\n",
        "else:\n",
        "    print(\"Not a palindrome!\")"
      ],
      "metadata": {
        "colab": {
          "base_uri": "https://localhost:8080/"
        },
        "id": "jUrwKiudPMit",
        "outputId": "02f34dfd-e9a5-4a9b-89fe-82dd3796b0ce"
      },
      "execution_count": 17,
      "outputs": [
        {
          "output_type": "stream",
          "name": "stdout",
          "text": [
            "Enter a string: aravind\n",
            "Not a palindrome!\n"
          ]
        }
      ]
    },
    {
      "cell_type": "code",
      "source": [
        "def count_characters(s):\n",
        "    char_count = {}\n",
        "    for char in s:\n",
        "        if char in char_count:\n",
        "            char_count[char] += 1\n",
        "        else:\n",
        "            char_count[char] = 1\n",
        "    return char_count\n",
        "\n",
        "text = input(\"Enter a string: \")\n",
        "\n",
        "char_counts = count_characters(text)\n",
        "\n",
        "for char, count in char_counts.items():\n",
        "    print(f\"'{char}': {count}\")\n"
      ],
      "metadata": {
        "colab": {
          "base_uri": "https://localhost:8080/"
        },
        "id": "bO3MHDxfP6Rf",
        "outputId": "902ed40a-4b33-447a-9d51-26ea1cc35aea"
      },
      "execution_count": 9,
      "outputs": [
        {
          "output_type": "stream",
          "name": "stdout",
          "text": [
            "Enter a string: xerox\n",
            "'x': 2\n",
            "'e': 1\n",
            "'r': 1\n",
            "'o': 1\n"
          ]
        }
      ]
    },
    {
      "cell_type": "markdown",
      "source": [
        " Object-Oriented Programming (OOP) Questions:\n",
        "\n",
        "1. A class is a blueprint or template that defines the properties (attributes) and behaviors (methods) of objects. An object is an instance of a class, containing its own unique data and the ability to perform actions defined by the class.\n",
        "\n",
        "\n",
        "\n",
        "2. Inheritance is a feature in Python that allows a class (child class) to inherit attributes and methods from another class (parent class). This promotes code reusability and hierarchy in object-oriented programming."
      ],
      "metadata": {
        "id": "WPL-75IDR5Ks"
      }
    },
    {
      "cell_type": "code",
      "source": [
        "# Parent class\n",
        "class Device:\n",
        "    def power_on(self):\n",
        "        return \"Device is now ON.\"\n",
        "class Phone(Device):\n",
        "    def call(self):\n",
        "        return \"Making a call...\"\n",
        "mobile = Phone()\n",
        "print(mobile.power_on())\n",
        "print(mobile.call())\n"
      ],
      "metadata": {
        "colab": {
          "base_uri": "https://localhost:8080/"
        },
        "id": "iezSlzgKQM5R",
        "outputId": "b4b9477a-8e19-4c92-92b7-51f5e08f9f7f"
      },
      "execution_count": 18,
      "outputs": [
        {
          "output_type": "stream",
          "name": "stdout",
          "text": [
            "Device is now ON.\n",
            "Making a call...\n"
          ]
        }
      ]
    },
    {
      "cell_type": "markdown",
      "source": [
        "3. Method overriding occurs when a child class provides a specific implementation of a method that is already defined in its parent class. The overridden method in the child class replaces the parent class’s method when called from an instance of the child class."
      ],
      "metadata": {
        "id": "SiJJLz4fTiwg"
      }
    },
    {
      "cell_type": "code",
      "source": [
        "class Vehicle:\n",
        "    def fuel(self):\n",
        "        return \"Uses fuel\"\n",
        "\n",
        "class ElectricCar(Vehicle):\n",
        "    def fuel(self):\n",
        "        return \"Runs on electricity\"\n",
        "\n",
        "car = Vehicle()\n",
        "tesla = ElectricCar()\n",
        "\n",
        "print(car.fuel())\n",
        "print(tesla.fuel())"
      ],
      "metadata": {
        "colab": {
          "base_uri": "https://localhost:8080/"
        },
        "id": "XQpMRBsUT084",
        "outputId": "eb1c3e57-c593-4ff7-ce8d-7cbcb1c33dc2"
      },
      "execution_count": 19,
      "outputs": [
        {
          "output_type": "stream",
          "name": "stdout",
          "text": [
            "Uses fuel\n",
            "Runs on electricity\n"
          ]
        }
      ]
    },
    {
      "cell_type": "markdown",
      "source": [
        "4."
      ],
      "metadata": {
        "id": "AXQBiAH7VGCy"
      }
    },
    {
      "cell_type": "code",
      "source": [
        "class School:\n",
        "    total_students = 500 #class variablr\n",
        "\n",
        "    # Instance Method: Works with instance attributes\n",
        "    def __init__(self, name):\n",
        "        self.name = name\n",
        "\n",
        "    def student_info(self):\n",
        "        return f\"Student Name: {self.name}\"\n",
        "\n",
        "    # Class Method: Works with class attributes\n",
        "    @classmethod\n",
        "    def update_students(cls, new_count):\n",
        "        cls.total_students = new_count\n",
        "        return f\"Total students updated to {cls.total_students}\"\n",
        "\n",
        "    # Static Method: Independent utility function\n",
        "    @staticmethod\n",
        "    def school_rules():\n",
        "        return \"School starts at 8 AM.\"\n",
        "\n",
        "student = School(\"Aravind\")\n",
        "\n",
        "print(student.student_info())\n",
        "print(School.update_students(550))\n",
        "print(School.school_rules())"
      ],
      "metadata": {
        "colab": {
          "base_uri": "https://localhost:8080/"
        },
        "id": "yYX9U9rYVDFt",
        "outputId": "481baeb4-5718-4380-b52a-8289e1642e1a"
      },
      "execution_count": 22,
      "outputs": [
        {
          "output_type": "stream",
          "name": "stdout",
          "text": [
            "Student Name: Aravind\n",
            "Total students updated to 550\n",
            "School starts at 8 AM.\n"
          ]
        }
      ]
    },
    {
      "cell_type": "markdown",
      "source": [
        "5. Encapsulation is the concept of restricting direct access to an object's data and modifying it only through methods. It helps in data protection, security, and modularity by preventing unintended modifications.\n"
      ],
      "metadata": {
        "id": "_D0kHpxVWBQ1"
      }
    },
    {
      "cell_type": "code",
      "source": [
        "class Student:\n",
        "    def __init__(self, name, age):\n",
        "        self.name = name  # Public attribute\n",
        "        self.__age = age  # Private attribute (Encapsulated)\n",
        "\n",
        "    def get_age(self):  # Getter method\n",
        "        return self.__age\n",
        "\n",
        "    def set_age(self, new_age):  # Setter method\n",
        "        if new_age > 0:\n",
        "            self.__age = new_age\n",
        "\n",
        "student = Student(\"Aravind\", 20)\n",
        "\n",
        "print(student.name)\n",
        "\n",
        "print(student.get_age())\n",
        "\n",
        "student.set_age(21)\n",
        "print(student.get_age())\n"
      ],
      "metadata": {
        "colab": {
          "base_uri": "https://localhost:8080/"
        },
        "id": "-3K2cb6JWr1j",
        "outputId": "665cfb04-8a8e-4ea8-b2a9-6b316896bf10"
      },
      "execution_count": 23,
      "outputs": [
        {
          "output_type": "stream",
          "name": "stdout",
          "text": [
            "Aravind\n",
            "20\n",
            "21\n"
          ]
        }
      ]
    }
  ]
}